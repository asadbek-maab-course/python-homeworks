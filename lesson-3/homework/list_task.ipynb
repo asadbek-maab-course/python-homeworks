{
 "cells": [
  {
   "cell_type": "markdown",
   "id": "2d166464",
   "metadata": {},
   "source": [
    "List Task"
   ]
  },
  {
   "cell_type": "code",
   "execution_count": null,
   "id": "bd1bdbf0",
   "metadata": {},
   "outputs": [
    {
     "name": "stdout",
     "output_type": "stream",
     "text": [
      "5\n"
     ]
    }
   ],
   "source": [
    "l = [1, 2, 3, 2, 1, 2, 1, 1, 1]\n",
    "element = 1\n",
    "print(l.count(element))"
   ]
  },
  {
   "cell_type": "code",
   "execution_count": 3,
   "id": "b01a1ad4",
   "metadata": {},
   "outputs": [
    {
     "name": "stdout",
     "output_type": "stream",
     "text": [
      "14\n"
     ]
    }
   ],
   "source": [
    "print(sum(l))"
   ]
  },
  {
   "cell_type": "code",
   "execution_count": 4,
   "id": "3a34b036",
   "metadata": {},
   "outputs": [
    {
     "name": "stdout",
     "output_type": "stream",
     "text": [
      "max: 3\n",
      "min: 1\n"
     ]
    }
   ],
   "source": [
    "print(f\"max: {max(l)}\")\n",
    "print(f\"min: {min(l)}\")"
   ]
  },
  {
   "cell_type": "code",
   "execution_count": 5,
   "id": "113645ac",
   "metadata": {},
   "outputs": [
    {
     "name": "stdout",
     "output_type": "stream",
     "text": [
      "5 listda yo'q\n"
     ]
    }
   ],
   "source": [
    "element = 5\n",
    "if element in l:\n",
    "    print(f\"{element} listda bor\")\n",
    "else:\n",
    "    print(f\"{element} listda yo'q\")"
   ]
  },
  {
   "cell_type": "code",
   "execution_count": 6,
   "id": "35bb69da",
   "metadata": {},
   "outputs": [
    {
     "name": "stdout",
     "output_type": "stream",
     "text": [
      "list bo'sh\n"
     ]
    }
   ],
   "source": [
    "l2 = []\n",
    "if l2 == []:\n",
    "    print(\"list bo'sh\")\n",
    "else:\n",
    "    print(\"birinchi element: \", l2[0])"
   ]
  },
  {
   "cell_type": "code",
   "execution_count": 9,
   "id": "56f04569",
   "metadata": {},
   "outputs": [
    {
     "name": "stdout",
     "output_type": "stream",
     "text": [
      "oxirgi element  1\n"
     ]
    }
   ],
   "source": [
    "if l == []:\n",
    "    print(\"list bo'sh\")\n",
    "else:\n",
    "    print(\"oxirgi element \", l[-1])"
   ]
  },
  {
   "cell_type": "code",
   "execution_count": 11,
   "id": "730b9eab",
   "metadata": {},
   "outputs": [
    {
     "name": "stdout",
     "output_type": "stream",
     "text": [
      "[1, 2, 3]\n"
     ]
    }
   ],
   "source": [
    "listslice = l[:3]\n",
    "print(listslice)"
   ]
  },
  {
   "cell_type": "code",
   "execution_count": 13,
   "id": "e54b7bba",
   "metadata": {},
   "outputs": [
    {
     "name": "stdout",
     "output_type": "stream",
     "text": [
      "[1, 1, 1, 2, 1, 2, 3, 2, 1]\n"
     ]
    }
   ],
   "source": [
    "reverse_list = reversed(l)\n",
    "print(list(reverse_list))"
   ]
  },
  {
   "cell_type": "code",
   "execution_count": 14,
   "id": "59c3dece",
   "metadata": {},
   "outputs": [
    {
     "name": "stdout",
     "output_type": "stream",
     "text": [
      "[1, 1, 1, 1, 1, 2, 2, 2, 3]\n"
     ]
    }
   ],
   "source": [
    "sortlist = sorted(l)\n",
    "print(sortlist)"
   ]
  },
  {
   "cell_type": "code",
   "execution_count": 15,
   "id": "4771ea99",
   "metadata": {},
   "outputs": [
    {
     "name": "stdout",
     "output_type": "stream",
     "text": [
      "[1, 2, 3]\n"
     ]
    }
   ],
   "source": [
    "dl = []\n",
    "for i in l:\n",
    "    if i not in dl:\n",
    "        dl.append(i)\n",
    "print(dl)"
   ]
  },
  {
   "cell_type": "code",
   "execution_count": 16,
   "id": "bf89f82a",
   "metadata": {},
   "outputs": [
    {
     "name": "stdout",
     "output_type": "stream",
     "text": [
      "[1, 2, 4, 3, 2, 1, 2, 1, 1, 1]\n"
     ]
    }
   ],
   "source": [
    "index = 2\n",
    "element = 4\n",
    "l.insert(index, element)\n",
    "print(l)"
   ]
  },
  {
   "cell_type": "code",
   "execution_count": 17,
   "id": "d5e28ce2",
   "metadata": {},
   "outputs": [
    {
     "name": "stdout",
     "output_type": "stream",
     "text": [
      "3\n"
     ]
    }
   ],
   "source": [
    "element = 3\n",
    "print(l.index(element))"
   ]
  },
  {
   "cell_type": "code",
   "execution_count": 18,
   "id": "6db6887b",
   "metadata": {},
   "outputs": [
    {
     "name": "stdout",
     "output_type": "stream",
     "text": [
      "False\n"
     ]
    }
   ],
   "source": [
    "print(l == [])"
   ]
  },
  {
   "cell_type": "code",
   "execution_count": 19,
   "id": "6c59f5e8",
   "metadata": {},
   "outputs": [
    {
     "name": "stdout",
     "output_type": "stream",
     "text": [
      "4\n"
     ]
    }
   ],
   "source": [
    "cnt = 0\n",
    "for i in l:\n",
    "    cnt += (i % 2 == 0)\n",
    "print(cnt)"
   ]
  },
  {
   "cell_type": "code",
   "execution_count": 20,
   "id": "15776fde",
   "metadata": {},
   "outputs": [
    {
     "name": "stdout",
     "output_type": "stream",
     "text": [
      "6\n"
     ]
    }
   ],
   "source": [
    "cnt = 0\n",
    "for i in l:\n",
    "    cnt +=  (i % 2)\n",
    "print(cnt)"
   ]
  },
  {
   "cell_type": "code",
   "execution_count": 21,
   "id": "3ee3d8cd",
   "metadata": {},
   "outputs": [
    {
     "name": "stdout",
     "output_type": "stream",
     "text": [
      "[1, 2, 4, 3, 2, 1, 2, 1, 1, 1, 5, 6, 7]\n"
     ]
    }
   ],
   "source": [
    "new_list = [5, 6, 7]\n",
    "comb_list = l + new_list\n",
    "print(comb_list)"
   ]
  },
  {
   "cell_type": "code",
   "execution_count": 25,
   "id": "648e18d1",
   "metadata": {},
   "outputs": [
    {
     "name": "stdout",
     "output_type": "stream",
     "text": [
      "index:  2\n"
     ]
    }
   ],
   "source": [
    "sub = [4, 3]\n",
    "leng = len(sub)\n",
    "for i in range(len(l) - leng + 1):\n",
    "    if l[i:i+leng] == sub:\n",
    "        print(\"index: \", i)\n",
    "        break\n",
    "else:\n",
    "    print(\"sub list yo'q\")"
   ]
  },
  {
   "cell_type": "code",
   "execution_count": 26,
   "id": "b8a56ba6",
   "metadata": {},
   "outputs": [
    {
     "name": "stdout",
     "output_type": "stream",
     "text": [
      "[1, 2, 5, 3, 2, 1, 2, 1, 1, 1]\n"
     ]
    }
   ],
   "source": [
    "element = 4\n",
    "repl = 5\n",
    "if element in l:\n",
    "    l[l.index(element)] = 5\n",
    "    print(l)\n",
    "else:\n",
    "    print(f\"{element} listda yo'q\")\n"
   ]
  },
  {
   "cell_type": "code",
   "execution_count": 28,
   "id": "e881f6e8",
   "metadata": {},
   "outputs": [
    {
     "name": "stdout",
     "output_type": "stream",
     "text": [
      "[1, 2, 5, 3, 2, 1, 2, 1, 1, 1]\n",
      "second largest: 3\n"
     ]
    }
   ],
   "source": [
    "nums = set(l)\n",
    "print(l)\n",
    "print(\"second largest:\", sorted(nums, reverse = 1)[1])"
   ]
  },
  {
   "cell_type": "code",
   "execution_count": 29,
   "id": "e299f276",
   "metadata": {},
   "outputs": [
    {
     "name": "stdout",
     "output_type": "stream",
     "text": [
      "[1, 2, 5, 3, 2, 1, 2, 1, 1, 1]\n",
      "second smallest: 2\n"
     ]
    }
   ],
   "source": [
    "nums = set(l)\n",
    "print(l)\n",
    "print(\"second smallest:\", sorted(nums)[1])"
   ]
  },
  {
   "cell_type": "code",
   "execution_count": 31,
   "id": "02e9540e",
   "metadata": {},
   "outputs": [
    {
     "name": "stdout",
     "output_type": "stream",
     "text": [
      "[2, 2, 2]\n"
     ]
    }
   ],
   "source": [
    "new_list = [i for i in l if i % 2 == 0]\n",
    "print(new_list)"
   ]
  },
  {
   "cell_type": "code",
   "execution_count": 32,
   "id": "d66ed3af",
   "metadata": {},
   "outputs": [
    {
     "name": "stdout",
     "output_type": "stream",
     "text": [
      "[1, 5, 3, 1, 1, 1, 1]\n"
     ]
    }
   ],
   "source": [
    "new_list = [i for i in l if i % 2 == 1]\n",
    "print(new_list)"
   ]
  },
  {
   "cell_type": "code",
   "execution_count": 34,
   "id": "654d1c8e",
   "metadata": {},
   "outputs": [
    {
     "name": "stdout",
     "output_type": "stream",
     "text": [
      "elementlar soni: 4\n"
     ]
    }
   ],
   "source": [
    "print(\"elementlar soni:\", len(set(l)))"
   ]
  },
  {
   "cell_type": "code",
   "execution_count": 35,
   "id": "5817e71e",
   "metadata": {},
   "outputs": [
    {
     "name": "stdout",
     "output_type": "stream",
     "text": [
      "l copy: [1, 2, 5, 3, 2, 1, 2, 1, 1, 1]\n"
     ]
    }
   ],
   "source": [
    "new_list = l.copy()\n",
    "print(\"l copy:\", new_list)"
   ]
  },
  {
   "cell_type": "code",
   "execution_count": 41,
   "id": "ad488913",
   "metadata": {},
   "outputs": [
    {
     "name": "stdout",
     "output_type": "stream",
     "text": [
      "middles [1, 2]\n"
     ]
    }
   ],
   "source": [
    "leng = len(l)\n",
    "if leng % 2:\n",
    "    print(\"middle:\", l[leng // 2])\n",
    "else:\n",
    "    print(\"middles\", l[leng//2:leng//2+2])\n"
   ]
  },
  {
   "cell_type": "code",
   "execution_count": 44,
   "id": "eeb9bfa8",
   "metadata": {},
   "outputs": [
    {
     "name": "stdout",
     "output_type": "stream",
     "text": [
      "max: 2\n"
     ]
    }
   ],
   "source": [
    "sublist = l[5:9]\n",
    "print(\"max:\", max(sublist))"
   ]
  },
  {
   "cell_type": "code",
   "execution_count": 43,
   "id": "afe1f801",
   "metadata": {},
   "outputs": [
    {
     "name": "stdout",
     "output_type": "stream",
     "text": [
      "min: 1\n"
     ]
    }
   ],
   "source": [
    "sublist = l[5:9]\n",
    "print(\"min:\", min(sublist))"
   ]
  },
  {
   "cell_type": "code",
   "execution_count": 45,
   "id": "eaac4d8f",
   "metadata": {},
   "outputs": [
    {
     "name": "stdout",
     "output_type": "stream",
     "text": [
      "6 indexdagi o'chirildi\n",
      "[1, 2, 5, 3, 2, 1, 1, 1, 1]\n"
     ]
    }
   ],
   "source": [
    "index = 6\n",
    "if len(l) > index:\n",
    "    del l[index]\n",
    "    print(f\"{index} indexdagi o'chirildi\")\n",
    "else:\n",
    "    print(f\"{index} index mavjud emas\")\n",
    "print(l)"
   ]
  },
  {
   "cell_type": "code",
   "execution_count": 46,
   "id": "e7de68b6",
   "metadata": {},
   "outputs": [
    {
     "name": "stdout",
     "output_type": "stream",
     "text": [
      "False\n"
     ]
    }
   ],
   "source": [
    "print(l == list(sorted('l')))"
   ]
  },
  {
   "cell_type": "code",
   "execution_count": null,
   "id": "a35ca717",
   "metadata": {},
   "outputs": [],
   "source": [
    "print(\"\")"
   ]
  }
 ],
 "metadata": {
  "kernelspec": {
   "display_name": ".venv",
   "language": "python",
   "name": "python3"
  },
  "language_info": {
   "codemirror_mode": {
    "name": "ipython",
    "version": 3
   },
   "file_extension": ".py",
   "mimetype": "text/x-python",
   "name": "python",
   "nbconvert_exporter": "python",
   "pygments_lexer": "ipython3",
   "version": "3.11.2"
  }
 },
 "nbformat": 4,
 "nbformat_minor": 5
}
