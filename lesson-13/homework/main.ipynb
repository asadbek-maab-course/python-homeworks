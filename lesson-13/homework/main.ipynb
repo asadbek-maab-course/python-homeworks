{
 "cells": [
  {
   "cell_type": "code",
   "execution_count": 8,
   "id": "a4a25cb0",
   "metadata": {},
   "outputs": [
    {
     "name": "stdout",
     "output_type": "stream",
     "text": [
      "[10 11 12 13 14 15 16 17 18 19 20 21 22 23 24 25 26 27 28 29 30 31 32 33\n",
      " 34 35 36 37 38 39 40 41 42 43 44 45 46 47 48]\n"
     ]
    }
   ],
   "source": [
    "import numpy as np\n",
    "v1 = np.arange(10, 49)\n",
    "print(v1)"
   ]
  },
  {
   "cell_type": "code",
   "execution_count": 13,
   "id": "b664156a",
   "metadata": {},
   "outputs": [
    {
     "name": "stdout",
     "output_type": "stream",
     "text": [
      "[[0 1 2]\n",
      " [3 4 5]\n",
      " [6 7 8]]\n"
     ]
    }
   ],
   "source": [
    "m = np.array([[i + 3*j for i in range(3)] for j in range(3)])\n",
    "print(m)"
   ]
  },
  {
   "cell_type": "code",
   "execution_count": 4,
   "id": "d34f10cf",
   "metadata": {},
   "outputs": [
    {
     "name": "stdout",
     "output_type": "stream",
     "text": [
      "[[1.70751313e-315 0.00000000e+000 0.00000000e+000]\n",
      " [0.00000000e+000 0.00000000e+000 0.00000000e+000]\n",
      " [0.00000000e+000 0.00000000e+000 0.00000000e+000]]\n"
     ]
    }
   ],
   "source": [
    "import numpy as np\n",
    "m3x3 = np.empty((3,3))\n",
    "print(m3x3)"
   ]
  },
  {
   "cell_type": "code",
   "execution_count": 17,
   "id": "3caa16bf",
   "metadata": {},
   "outputs": [
    {
     "name": "stdout",
     "output_type": "stream",
     "text": [
      "[[8 7 5 5 1 3 9 6 9 8]\n",
      " [5 0 5 9 5 2 3 7 9 4]\n",
      " [1 3 2 9 5 4 4 5 6 0]\n",
      " [1 2 6 9 6 1 9 6 6 4]\n",
      " [4 8 0 7 8 5 5 8 3 9]\n",
      " [0 6 4 7 3 3 4 1 0 2]\n",
      " [9 7 9 6 2 8 4 5 6 2]\n",
      " [3 2 7 2 7 8 0 2 0 4]\n",
      " [0 6 4 7 9 6 3 5 9 7]\n",
      " [6 3 1 8 2 7 9 9 7 7]]\n"
     ]
    }
   ],
   "source": [
    "rand_arr = np.random.randint(0, 10, size=(10, 10))\n",
    "print(rand_arr)"
   ]
  },
  {
   "cell_type": "code",
   "execution_count": 18,
   "id": "27e3f40a",
   "metadata": {},
   "outputs": [
    {
     "name": "stdout",
     "output_type": "stream",
     "text": [
      "9\n",
      "0\n"
     ]
    }
   ],
   "source": [
    "print(np.max(rand_arr))\n",
    "print(np.min(rand_arr))"
   ]
  },
  {
   "cell_type": "code",
   "execution_count": 19,
   "id": "09db022b",
   "metadata": {},
   "outputs": [
    {
     "name": "stdout",
     "output_type": "stream",
     "text": [
      "[24 20 12 25  8 17 20 18  6 17 22 28 25 19 10  4 22 28 24 27  9 27 24  7\n",
      " 19 26 24 24  5  4]\n"
     ]
    }
   ],
   "source": [
    "rand_vec = np.random.randint(0, 30, size=(30))\n",
    "print(rand_vec)"
   ]
  },
  {
   "cell_type": "code",
   "execution_count": null,
   "id": "39e6af46",
   "metadata": {},
   "outputs": [
    {
     "name": "stdout",
     "output_type": "stream",
     "text": [
      "20\n"
     ]
    }
   ],
   "source": [
    "rand_vec.sort()\n",
    "print(rand_vec.mean())"
   ]
  },
  {
   "cell_type": "code",
   "execution_count": null,
   "id": "b01d8493",
   "metadata": {},
   "outputs": [
    {
     "name": "stdout",
     "output_type": "stream",
     "text": [
      "[[0.56701031 0.89690722 0.27835052 0.39175258 0.        ]\n",
      " [0.97938144 0.31958763 0.77319588 0.90721649 0.08247423]\n",
      " [0.97938144 0.73195876 0.43298969 0.39175258 0.91752577]\n",
      " [0.62886598 0.41237113 0.67010309 0.25773196 0.70103093]\n",
      " [0.83505155 1.         0.4742268  0.97938144 0.60824742]]\n"
     ]
    }
   ],
   "source": [
    "a = np.random.randint(0, 100, size=(5,5))\n",
    "norm = np.linalg.norm(a)\n",
    "print(norm)"
   ]
  },
  {
   "cell_type": "code",
   "execution_count": 24,
   "id": "56f9264e",
   "metadata": {},
   "outputs": [
    {
     "name": "stdout",
     "output_type": "stream",
     "text": [
      "[[105 108]\n",
      " [ 85 127]\n",
      " [ 88 115]\n",
      " [ 79  94]\n",
      " [ 95 128]]\n"
     ]
    }
   ],
   "source": [
    "m5x3 = np.random.randint(1, 10, size=(5,3))\n",
    "m3x2 = np.random.randint(1, 10, size=(3,2))\n",
    "print(np.dot(m5x3, m3x2))"
   ]
  },
  {
   "cell_type": "code",
   "execution_count": 27,
   "id": "8b901d3e",
   "metadata": {},
   "outputs": [
    {
     "name": "stdout",
     "output_type": "stream",
     "text": [
      "[[165  82  42]\n",
      " [157  80  41]\n",
      " [100  38  23]]\n"
     ]
    }
   ],
   "source": [
    "m3x3 = np.random.randint(1, 10, size=(3,3))\n",
    "m3x3_2 = np.random.randint(1, 10, size=(3,3))\n",
    "print(np.dot(m3x3, m3x3_2))"
   ]
  },
  {
   "cell_type": "code",
   "execution_count": 28,
   "id": "65d0f36d",
   "metadata": {},
   "outputs": [
    {
     "name": "stdout",
     "output_type": "stream",
     "text": [
      "[[4 9 5 9]\n",
      " [1 2 5 4]\n",
      " [9 5 3 8]\n",
      " [9 9 2 9]]\n"
     ]
    }
   ],
   "source": [
    "m4x4 = np.random.randint(1, 10, size=(4,4))\n",
    "print(m4x4.transpose())"
   ]
  },
  {
   "cell_type": "code",
   "execution_count": 29,
   "id": "c2817aff",
   "metadata": {},
   "outputs": [
    {
     "name": "stdout",
     "output_type": "stream",
     "text": [
      "-29.99999999999999\n"
     ]
    }
   ],
   "source": [
    "detetminant = np.linalg.det(m3x3)\n",
    "print(detetminant)"
   ]
  },
  {
   "cell_type": "code",
   "execution_count": 30,
   "id": "c1d8c8db",
   "metadata": {},
   "outputs": [
    {
     "name": "stdout",
     "output_type": "stream",
     "text": [
      "[[ 50  76  84]\n",
      " [ 76 110 134]\n",
      " [ 93 137 202]]\n"
     ]
    }
   ],
   "source": [
    "A = np.random.randint(1, 10, size=(3,4))\n",
    "B = np.random.randint(1, 10, size=(4, 3))\n",
    "print(np.dot(A, B))"
   ]
  },
  {
   "cell_type": "code",
   "execution_count": null,
   "id": "8d39d2b3",
   "metadata": {},
   "outputs": [
    {
     "name": "stdout",
     "output_type": "stream",
     "text": [
      "[[ 8 81  8]\n",
      " [ 7 81  8]\n",
      " [ 7 54  2]]\n"
     ]
    }
   ],
   "source": [
    "m3 = np.random.randint(1, 10, size=(3))\n",
    "print(np.dot(m3x3, m3.reshape(3,1)))"
   ]
  },
  {
   "cell_type": "code",
   "execution_count": null,
   "id": "caec584d",
   "metadata": {},
   "outputs": [
    {
     "name": "stdout",
     "output_type": "stream",
     "text": [
      "[[1.         0.5        0.33333333]\n",
      " [0.16666667 0.14285714 0.125     ]\n",
      " [0.09090909 0.08333333 0.07692308]]\n"
     ]
    }
   ],
   "source": [
    "A = np.array([\n",
    "    [2, 4, 6],\n",
    "])\n",
    "b = np.array([2])\n",
    "x = np.linalg.solve(A, b)\n",
    "print(x)"
   ]
  },
  {
   "cell_type": "code",
   "execution_count": 34,
   "id": "834cc802",
   "metadata": {},
   "outputs": [
    {
     "name": "stdout",
     "output_type": "stream",
     "text": [
      "[12 42 72] [36 42 48]\n"
     ]
    }
   ],
   "source": [
    "rowwise = np.sum(A, axis=1)\n",
    "columnwise = np.sum(A, axis=0)\n",
    "print(rowwise, columnwise)"
   ]
  },
  {
   "cell_type": "code",
   "execution_count": null,
   "id": "f1a3a55b",
   "metadata": {},
   "outputs": [],
   "source": []
  }
 ],
 "metadata": {
  "kernelspec": {
   "display_name": "Python 3",
   "language": "python",
   "name": "python3"
  },
  "language_info": {
   "codemirror_mode": {
    "name": "ipython",
    "version": 3
   },
   "file_extension": ".py",
   "mimetype": "text/x-python",
   "name": "python",
   "nbconvert_exporter": "python",
   "pygments_lexer": "ipython3",
   "version": "3.11.2"
  }
 },
 "nbformat": 4,
 "nbformat_minor": 5
}
