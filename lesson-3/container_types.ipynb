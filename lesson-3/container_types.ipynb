{
 "cells": [
  {
   "cell_type": "markdown",
   "id": "bd38ff78",
   "metadata": {},
   "source": [
    "Container types"
   ]
  }
 ],
 "metadata": {
  "language_info": {
   "name": "python"
  }
 },
 "nbformat": 4,
 "nbformat_minor": 5
}
