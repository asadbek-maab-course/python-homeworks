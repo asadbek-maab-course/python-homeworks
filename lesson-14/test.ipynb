{
 "cells": [
  {
   "cell_type": "code",
   "execution_count": 4,
   "id": "fbe279bf",
   "metadata": {},
   "outputs": [],
   "source": [
    "import numpy as np\n",
    "a = np.array([\n",
    "    10, 12, 15, 18, 20, 22, 25, 30, 28, 26, 24, 30, 35, 40, 38, 36, 34, 32, 30, 25,\n",
    "    20, 15, 12, 10, 15, 20, 25, 30, 35, 40, 45, 50, 48, 46, 44, 42, 40, 38, 36, 35,\n",
    "    33, 32, 31, 30, 28, 26, 24, 22, 20, 18, 16, 14, 12, 10\n",
    "])\n",
    "\n",
    "b = np.array([\n",
    "    5, 10, 5, 10, 6, 11, 6, 11, 7, 12, 7, 12, 8, 13, 8, 13, 9, 14, 9, 14,\n",
    "    10, 15, 10, 15, 11, 16, 11, 16, 12, 17, 12, 17, 13, 18, 13, 18, 14, 19, 14, 19,\n",
    "    15, 20, 15, 20, 16, 21, 16, 21, 17, 22, 17, 22, 18, 23\n",
    "])\n",
    "\n",
    "c = np.array([\n",
    "    1, 2, 3, 4, 5, 6, 7, 8, 9, 10, 10, 9, 8, 7, 6, 5, 4, 3, 2, 1,\n",
    "    2, 3, 4, 5, 6, 7, 8, 9, 10, 11, 12, 13, 14, 13, 12, 11, 10, 9, 8, 7,\n",
    "    6, 5, 4, 3, 2, 1, 2, 3, 4, 5, 6, 7, 8, 9\n",
    "])"
   ]
  },
  {
   "cell_type": "code",
   "execution_count": 7,
   "id": "888fcc04",
   "metadata": {},
   "outputs": [
    {
     "data": {
      "text/plain": [
       "27.62962962962963"
      ]
     },
     "execution_count": 7,
     "metadata": {},
     "output_type": "execute_result"
    }
   ],
   "source": [
    "a.mean()"
   ]
  },
  {
   "cell_type": "code",
   "execution_count": 8,
   "id": "5a883a35",
   "metadata": {},
   "outputs": [
    {
     "name": "stdout",
     "output_type": "stream",
     "text": [
      "(1, 5)\n",
      "(2, 6)\n",
      "(3, 7)\n",
      "(4, 8)\n",
      "(5, 9)\n"
     ]
    }
   ],
   "source": [
    "l1 = [1, 2, 3, 4, 5]\n",
    "l2 = [5, 6, 7, 8, 9]\n",
    "for i, j in zip(l1, l2):\n",
    "    print((i, j))"
   ]
  },
  {
   "cell_type": "code",
   "execution_count": 9,
   "id": "ebe17069",
   "metadata": {},
   "outputs": [
    {
     "data": {
      "text/plain": [
       "3.2997256515775026"
      ]
     },
     "execution_count": 9,
     "metadata": {},
     "output_type": "execute_result"
    }
   ],
   "source": [
    "def cov(a, b):\n",
    "    return np.mean((a - a.mean()) * (b - b.mean()))\n",
    "cov(a, b)"
   ]
  },
  {
   "cell_type": "code",
   "execution_count": 38,
   "id": "8c0aecfc",
   "metadata": {},
   "outputs": [
    {
     "data": {
      "image/png": "[encoded data removed]",
      "text/plain": [
       "<Figure size 640x480 with 1 Axes>"
      ]
     },
     "metadata": {},
     "output_type": "display_data"
    }
   ],
   "source": [
    "import matplotlib.pyplot as plt\n",
    "\n",
    "\n",
    "plt.scatter(a, c)\n",
    "plt.show()\n"
   ]
  },
  {
   "cell_type": "code",
   "execution_count": 40,
   "id": "10c40119",
   "metadata": {},
   "outputs": [
    {
     "data": {
      "text/plain": [
       "0.9999999999999999"
      ]
     },
     "execution_count": 40,
     "metadata": {},
     "output_type": "execute_result"
    }
   ],
   "source": [
    "def correlation(a, b):\n",
    "    return cov(a, b) / (np.std(a) * np.std(b))\n",
    "correlation(a, a)"
   ]
  }
 ],
 "metadata": {
  "kernelspec": {
   "display_name": "Python 3",
   "language": "python",
   "name": "python3"
  },
  "language_info": {
   "codemirror_mode": {
    "name": "ipython",
    "version": 3
   },
   "file_extension": ".py",
   "mimetype": "text/x-python",
   "name": "python",
   "nbconvert_exporter": "python",
   "pygments_lexer": "ipython3",
   "version": "3.11.2"
  }
 },
 "nbformat": 4,
 "nbformat_minor": 5
}
